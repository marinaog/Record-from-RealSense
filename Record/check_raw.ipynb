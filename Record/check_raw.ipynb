{
 "cells": [
  {
   "cell_type": "code",
   "execution_count": 30,
   "metadata": {},
   "outputs": [
    {
     "name": "stdout",
     "output_type": "stream",
     "text": [
      "✅ Detected: 16-bit (Raw16)\n",
      "📏 File size: 4147200 bytes\n",
      "Min Pixel Value: 0\n",
      "Max Pixel Value: 65408\n"
     ]
    }
   ],
   "source": [
    "import numpy as np\n",
    "import os\n",
    "import matplotlib.pyplot as plt\n",
    "import cv2\n",
    "\n",
    "def check_raw_bit_depth(file_path, resolution=(1920, 1080)):\n",
    "    if not os.path.exists(file_path):\n",
    "        print(\"❌ File not found!\")\n",
    "        return\n",
    "\n",
    "    file_size = os.path.getsize(file_path)  # Get file size in bytes\n",
    "    pixel_count = resolution[0] * resolution[1]  # Total number of pixels\n",
    "\n",
    "    # Check possible bit depths\n",
    "    if file_size == pixel_count * 2:\n",
    "        print(\"✅ Detected: 16-bit (Raw16)\")\n",
    "    elif file_size == pixel_count:\n",
    "        print(\"✅ Detected: 8-bit\")\n",
    "    else:\n",
    "        print(\"⚠️ Unknown bit depth! File size doesn't match standard formats.\")\n",
    "\n",
    "    file_size = os.path.getsize(file_path)\n",
    "    print(f\"📏 File size: {file_size} bytes\")\n",
    "\n",
    "\n",
    "\n",
    "\n",
    "\n",
    "def visualize_raw(file_path, resolution=(1920, 1080), bit_depth=16):\n",
    "    if not os.path.exists(file_path):\n",
    "        print(\"❌ File not found!\")\n",
    "        return\n",
    "\n",
    "    with open(file_path, \"rb\") as f:\n",
    "        data = f.read()\n",
    "\n",
    "    # Convert raw binary data to numpy array (16-bit since you used `rs.format.raw16`)\n",
    "    dtype = np.uint16 if bit_depth == 16 else np.uint8\n",
    "    image_array = np.frombuffer(data, dtype=dtype)\n",
    "\n",
    "    # Ensure correct shape\n",
    "    expected_size = resolution[0] * resolution[1]\n",
    "    if image_array.size != expected_size:\n",
    "        print(f\"❌ Size mismatch! Expected {expected_size}, but got {image_array.size}.\")\n",
    "        return\n",
    "\n",
    "    # Reshape to (height, width) since OpenCV expects that format\n",
    "    image_array = image_array.reshape((resolution[1], resolution[0]))\n",
    "\n",
    "    # Normalize for display (same logic as in your recording script)\n",
    "    vis_image = cv2.convertScaleAbs(image_array, alpha=0.03) #0.03)\n",
    "\n",
    "    \n",
    "    print(\"Min Pixel Value:\", np.min(image_array))\n",
    "    print(\"Max Pixel Value:\", np.max(image_array))\n",
    "\n",
    "    # Show the image\n",
    "    cv2.imshow(\"Visualized RAW Image\", vis_image)\n",
    "    cv2.waitKey(0)\n",
    "    cv2.destroyAllWindows()\n",
    "\n",
    "check_raw_bit_depth(\"C:/Users/marin/OneDrive - UNIVERSIDAD DE SEVILLA/Escritorio/Thesis/color/frame_99.raw\")\n",
    "visualize_raw(\"C:/Users/marin/OneDrive - UNIVERSIDAD DE SEVILLA/Escritorio/Thesis/color/frame_99.raw\")"
   ]
  },
  {
   "cell_type": "code",
   "execution_count": null,
   "metadata": {},
   "outputs": [
    {
     "name": "stdout",
     "output_type": "stream",
     "text": [
      "✅ Detected: 16-bit (Raw16)\n",
      "📏 File size: 4147200 bytes\n",
      "Min Pixel Value: 0\n",
      "Max Pixel Value: 7616\n"
     ]
    }
   ],
   "source": []
  }
 ],
 "metadata": {
  "kernelspec": {
   "display_name": "Python 3",
   "language": "python",
   "name": "python3"
  },
  "language_info": {
   "codemirror_mode": {
    "name": "ipython",
    "version": 3
   },
   "file_extension": ".py",
   "mimetype": "text/x-python",
   "name": "python",
   "nbconvert_exporter": "python",
   "pygments_lexer": "ipython3",
   "version": "3.9.21"
  }
 },
 "nbformat": 4,
 "nbformat_minor": 2
}
